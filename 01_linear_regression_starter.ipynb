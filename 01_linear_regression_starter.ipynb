{
 "cells": [
  {
   "cell_type": "code",
   "execution_count": null,
   "metadata": {
    "collapsed": true
   },
   "outputs": [],
   "source": [
    "\"\"\"\n",
    "Simple linear regression example in TensorFlow\n",
    "This program tries to predict the number of thefts from \n",
    "the number of fire in the city of Chicago\n",
    "\"\"\"\n",
    "import os\n",
    "os.environ['TF_CPP_MIN_LOG_LEVEL']='2'\n",
    "\n",
    "import numpy as np\n",
    "import matplotlib.pyplot as plt\n",
    "import tensorflow as tf\n",
    "import xlrd\n",
    "\n",
    "import utils\n",
    "\n",
    "DATA_FILE = 'data/fire_theft.xls'\n",
    "\n",
    "# Phase 1: Assemble the graph\n",
    "# Step 1: read in data from the .xls file\n",
    "book = xlrd.open_workbook(DATA_FILE, encoding_override='utf-8')\n",
    "sheet = book.sheet_by_index(0)\n",
    "data = np.asarray([sheet.row_values(i) for i in range(1, sheet.nrows)])\n",
    "n_samples = sheet.nrows - 1\n",
    "\n",
    "# Step 2: create placeholders for input X (number of fire) and label Y (number of theft)\n",
    "\n",
    "\n",
    "# Step 3: create weight and bias, initialized to 0\n",
    "# name your variables w and b\n",
    "\n",
    "\n",
    "# Step 4: predict Y (number of theft) from the number of fire\n",
    "# name your variable Y_predicted\n",
    "\n",
    "\n",
    "# Step 5: use the square error as the loss function\n",
    "# name your variable loss\n",
    "\n",
    "# Step 6: using gradient descent with learning rate of 0.01 to minimize loss\n",
    "optimizer = tf.train.GradientDescentOptimizer(learning_rate=0.01).minimize(loss)\n",
    " \n",
    "# Phase 2: Train our model\n",
    "with tf.Session() as sess:\n",
    "\t# Step 7: initialize the necessary variables, in this case, w and b\n",
    "\t# TO - DO\t\n",
    "\n",
    "\t# Step 8: train the model\n",
    "\tfor i in range(50): # run 100 epochs\n",
    "\t\ttotal_loss = 0\n",
    "\t\tfor x, y in data:\n",
    "\t\t\t# Session runs optimizer to minimize loss and fetch the value of loss\n",
    "\t\t\t# TO DO: write sess.run()\n",
    "\t\t\ttotal_loss += l\n",
    "\t\tprint(\"Epoch {0}: {1}\".format(i, total_loss/n_samples))\n",
    "\t\n",
    "# plot the results\n",
    "# X, Y = data.T[0], data.T[1]\n",
    "# plt.plot(X, Y, 'bo', label='Real data')\n",
    "# plt.plot(X, X * w + b, 'r', label='Predicted data')\n",
    "# plt.legend()\n",
    "# plt.show()"
   ]
  }
 ],
 "metadata": {
  "kernelspec": {
   "display_name": "Python 3",
   "language": "python",
   "name": "python3"
  },
  "language_info": {
   "codemirror_mode": {
    "name": "ipython",
    "version": 3
   },
   "file_extension": ".py",
   "mimetype": "text/x-python",
   "name": "python",
   "nbconvert_exporter": "python",
   "pygments_lexer": "ipython3",
   "version": "3.5.2"
  }
 },
 "nbformat": 4,
 "nbformat_minor": 2
}
